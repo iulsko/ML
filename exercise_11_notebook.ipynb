{
 "cells": [
  {
   "cell_type": "markdown",
   "metadata": {},
   "source": [
    "# Programming task 11: Dimensionality Reduction"
   ]
  },
  {
   "cell_type": "code",
   "execution_count": 1,
   "metadata": {},
   "outputs": [],
   "source": [
    "import numpy as np\n",
    "import matplotlib.pyplot as plt\n",
    "\n",
    "%matplotlib inline"
   ]
  },
  {
   "cell_type": "markdown",
   "metadata": {},
   "source": [
    "## Exporting the results to PDF\n",
    "Once you complete the assignments, export the entire notebook as PDF and attach it to your homework solutions. \n",
    "The best way of doing that is\n",
    "1. Run all the cells of the notebook.\n",
    "2. Export/download the notebook as PDF (File -> Download as -> PDF via LaTeX (.pdf)).\n",
    "3. Concatenate your solutions for other tasks with the output of Step 2. On a Linux machine you can simply use `pdfunite`, there are similar tools for other platforms too. You can only upload a single PDF file to Moodle.\n",
    "\n",
    "Make sure you are using `nbconvert` Version 5.5 or later by running `jupyter nbconvert --version`. Older versions clip lines that exceed page width, which makes your code harder to grade."
   ]
  },
  {
   "cell_type": "markdown",
   "metadata": {},
   "source": [
    "##  PCA"
   ]
  },
  {
   "cell_type": "markdown",
   "metadata": {},
   "source": [
    "Given the data in the matrix X your tasks is to:\n",
    "* Calculate the covariance matrix $\\Sigma$.\n",
    "* Calculate eigenvalues and eigenvectors of $\\Sigma$.\n",
    "* Plot the original data $X$ and the eigenvectors to a single diagram. What do you observe? Which eigenvector corresponds to the smallest eigenvalue?\n",
    "* Determine the smallest eigenvalue and remove its corresponding eigenvector. The remaining eigenvector is the basis of a new subspace.\n",
    "* Transform all vectors in X in this new subspace by expressing all vectors in X in this new basis.\t"
   ]
  },
  {
   "cell_type": "markdown",
   "metadata": {},
   "source": [
    "### The given data X"
   ]
  },
  {
   "cell_type": "code",
   "execution_count": 2,
   "metadata": {},
   "outputs": [],
   "source": [
    "X = np.array([(-3,-2),(-2,-1),(-1,0),(0,1),\n",
    "              (1,2),(2,3),(-2,-2),(-1,-1),\n",
    "              (0,0),(1,1),(2,2), (-2,-3),\n",
    "              (-1,-2),(0,-1),(1,0), (2,1),(3,2)])"
   ]
  },
  {
   "cell_type": "markdown",
   "metadata": {},
   "source": [
    "### Task 1: Calculate the covariance matrix $\\Sigma$"
   ]
  },
  {
   "cell_type": "code",
   "execution_count": 3,
   "metadata": {},
   "outputs": [],
   "source": [
    "def get_covariance(X):\n",
    "    \"\"\"Calculates the covariance matrix of the input data.\n",
    "    \n",
    "    Parameters\n",
    "    ----------\n",
    "    X : array, shape [N, D]\n",
    "        Data matrix.\n",
    "        \n",
    "    Returns\n",
    "    -------\n",
    "    Sigma : array, shape [D, D]\n",
    "        Covariance matrix\n",
    "        \n",
    "    \"\"\"\n",
    "    # TODO\n",
    "    N = X.shape[0]\n",
    "    mean = np.mean(X, axis = 0)\n",
    "    return X.T @ X / N - mean @ mean.T"
   ]
  },
  {
   "cell_type": "markdown",
   "metadata": {},
   "source": [
    "### Task 2: Calculate eigenvalues and eigenvectors of  $\\Sigma$."
   ]
  },
  {
   "cell_type": "code",
   "execution_count": 4,
   "metadata": {},
   "outputs": [],
   "source": [
    "def get_eigen(S):\n",
    "    \"\"\"Calculates the eigenvalues and eigenvectors of the input matrix.\n",
    "    \n",
    "    Parameters\n",
    "    ----------\n",
    "    S : array, shape [D, D]\n",
    "        Square symmetric positive definite matrix.\n",
    "        \n",
    "    Returns\n",
    "    -------\n",
    "    L : array, shape [D]\n",
    "        Eigenvalues of S\n",
    "    U : array, shape [D, D]\n",
    "        Eigenvectors of S\n",
    "    \n",
    "    \"\"\"\n",
    "    # TODO\n",
    "    w, v = np.linalg.eig(S)\n",
    "    return w, v"
   ]
  },
  {
   "cell_type": "markdown",
   "metadata": {},
   "source": [
    "### Task 3: Plot the original data X and the eigenvectors to a single diagram.\n",
    "\n",
    "Note that, in general if $u_i$ is an eigenvector of the matrix $M$ with eigenvalue $\\lambda_i$ then $\\alpha \\cdot u_i$ is also an eigenvector of $M$ with the same eigenvalue $\\lambda_i$, where $\\alpha$ is an arbitrary scalar (including $\\alpha=-1$). \n",
    "\n",
    "Thus, the signs of the eigenvectors are arbitrary, and you can flip them without changing the meaning of the result. Only their direction matters. The particular result depends on the algorithm used to find them. "
   ]
  },
  {
   "cell_type": "code",
   "execution_count": 5,
   "metadata": {},
   "outputs": [
    {
     "data": {
      "image/png": "[encoded data removed]",
      "text/plain": [
       "<Figure size 432x288 with 1 Axes>"
      ]
     },
     "metadata": {
      "needs_background": "light"
     },
     "output_type": "display_data"
    }
   ],
   "source": [
    "# plot the original data\n",
    "plt.scatter(X[:, 0], X[:, 1])\n",
    "\n",
    "# plot the mean of the data\n",
    "mean_d1, mean_d2 = X.mean(0)\n",
    "plt.plot(mean_d1, mean_d2, 'o', markersize=10, color='red', alpha=0.5)\n",
    "\n",
    "# calculate the covariance matrix\n",
    "Sigma = get_covariance(X)\n",
    "# calculate the eigenvector and eigenvalues of Sigma\n",
    "L, U = get_eigen(Sigma)\n",
    "\n",
    "plt.arrow(mean_d1, mean_d2, U[0, 0], U[1, 0], width=0.01, color='red', alpha=0.5)\n",
    "plt.arrow(mean_d1, mean_d2, U[0, 1], U[1, 1], width=0.01, color='green', alpha=0.5);"
   ]
  },
  {
   "cell_type": "markdown",
   "metadata": {},
   "source": [
    "What do you observe in the above plot? Which eigenvector corresponds to the smallest eigenvalue?\n",
    "\n",
    "Write your answer here:\n",
    "\n",
    "*The eigenvector corresponding to the smallest eigenvalue is the one showing in the direction of the smallest variance. This eigenvector is shown in green in the above plot.*"
   ]
  },
  {
   "cell_type": "markdown",
   "metadata": {},
   "source": [
    "### Task 4: Transform the data"
   ]
  },
  {
   "cell_type": "markdown",
   "metadata": {},
   "source": [
    "Determine the smallest eigenvalue and remove its corresponding eigenvector. The remaining eigenvector is the basis of a new subspace. Transform all vectors in X in this new subspace by expressing all vectors in X in this new basis."
   ]
  },
  {
   "cell_type": "code",
   "execution_count": 6,
   "metadata": {},
   "outputs": [],
   "source": [
    "def transform(X, U, L):\n",
    "    \"\"\"Transforms the data in the new subspace spanned by the eigenvector corresponding to the largest eigenvalue.\n",
    "    \n",
    "    Parameters\n",
    "    ----------\n",
    "    X : array, shape [N, D]\n",
    "        Data matrix.\n",
    "    L : array, shape [D]\n",
    "        Eigenvalues of Sigma_X\n",
    "    U : array, shape [D, D]\n",
    "        Eigenvectors of Sigma_X\n",
    "        \n",
    "    Returns\n",
    "    -------\n",
    "    X_t : array, shape [N, 1]\n",
    "        Transformed data\n",
    "        \n",
    "    \"\"\"\n",
    "    # TODO\n",
    "    min_eigval = np.argmin(L)\n",
    "    new_eigvects = np.delete(U, min_eigval, axis = 1)\n",
    "    X_reduced = X @ new_eigvects\n",
    "    return X_reduced"
   ]
  },
  {
   "cell_type": "code",
   "execution_count": 7,
   "metadata": {},
   "outputs": [],
   "source": [
    "X_t = transform(X, U, L)"
   ]
  },
  {
   "cell_type": "markdown",
   "metadata": {},
   "source": [
    "##  SVD"
   ]
  },
  {
   "cell_type": "markdown",
   "metadata": {},
   "source": [
    "### Task 5: Given the matrix $M$ find its SVD decomposition $M= U \\cdot \\Sigma \\cdot V^T$ and reduce it to one dimension using the approach described in the lecture."
   ]
  },
  {
   "cell_type": "code",
   "execution_count": 8,
   "metadata": {},
   "outputs": [],
   "source": [
    "M = np.array([[1, 2], [6, 3],[0, 2]])"
   ]
  },
  {
   "cell_type": "code",
   "execution_count": 9,
   "metadata": {},
   "outputs": [],
   "source": [
    "def reduce_to_one_dimension(M):\n",
    "    \"\"\"Reduces the input matrix to one dimension using its SVD decomposition.\n",
    "    \n",
    "    Parameters\n",
    "    ----------\n",
    "    M : array, shape [N, D]\n",
    "        Input matrix.\n",
    "        \n",
    "    Returns\n",
    "    -------\n",
    "    M_t: array, shape [N, 1]\n",
    "        Reduce matrix.\n",
    "    \n",
    "    \"\"\"\n",
    "    # TODO\n",
    "    U, S, V_T = np.linalg.svd(M, full_matrices=False)\n",
    "    # find the smallest sigma value\n",
    "    s_min = np.argmin(S)\n",
    "    # delete columns corresponding to the smallest sigma values\n",
    "    S_new = np.delete(S, s_min)\n",
    "    U_new = np.delete(U, s_min, axis = 1)\n",
    "    # find the reduced matrix\n",
    "    return U_new @ S_new[np.newaxis, :]"
   ]
  },
  {
   "cell_type": "code",
   "execution_count": 10,
   "metadata": {},
   "outputs": [
    {
     "data": {
      "text/plain": [
       "array([[-1.90211303],\n",
       "       [-6.68109819],\n",
       "       [-1.05146222]])"
      ]
     },
     "execution_count": 10,
     "metadata": {},
     "output_type": "execute_result"
    }
   ],
   "source": [
    "M_t = reduce_to_one_dimension(M)\n",
    "M_t"
   ]
  }
 ],
 "metadata": {
  "anaconda-cloud": {},
  "kernelspec": {
   "display_name": "Python 3",
   "language": "python",
   "name": "python3"
  },
  "language_info": {
   "codemirror_mode": {
    "name": "ipython",
    "version": 3
   },
   "file_extension": ".py",
   "mimetype": "text/x-python",
   "name": "python",
   "nbconvert_exporter": "python",
   "pygments_lexer": "ipython3",
   "version": "3.7.3"
  },
  "toc": {
   "colors": {
    "hover_highlight": "#DAA520",
    "navigate_num": "#000000",
    "navigate_text": "#333333",
    "running_highlight": "#FF0000",
    "selected_highlight": "#FFD700",
    "sidebar_border": "#EEEEEE",
    "wrapper_background": "#FFFFFF"
   },
   "moveMenuLeft": true,
   "nav_menu": {
    "height": "48px",
    "width": "252px"
   },
   "navigate_menu": true,
   "number_sections": true,
   "sideBar": true,
   "threshold": 4,
   "toc_cell": false,
   "toc_section_display": "block",
   "toc_window_display": false,
   "widenNotebook": false
  }
 },
 "nbformat": 4,
 "nbformat_minor": 2
}
